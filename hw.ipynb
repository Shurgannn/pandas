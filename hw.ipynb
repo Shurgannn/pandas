{
 "cells": [
  {
   "cell_type": "code",
   "execution_count": 5,
   "metadata": {},
   "outputs": [],
   "source": [
    "import pandas as pd"
   ]
  },
  {
   "cell_type": "code",
   "execution_count": 131,
   "metadata": {},
   "outputs": [],
   "source": [
    "file_path = 'C:/My documents/names'"
   ]
  },
  {
   "cell_type": "code",
   "execution_count": 226,
   "metadata": {},
   "outputs": [
    {
     "data": {
      "text/html": [
       "<div>\n",
       "<style scoped>\n",
       "    .dataframe tbody tr th:only-of-type {\n",
       "        vertical-align: middle;\n",
       "    }\n",
       "\n",
       "    .dataframe tbody tr th {\n",
       "        vertical-align: top;\n",
       "    }\n",
       "\n",
       "    .dataframe thead th {\n",
       "        text-align: right;\n",
       "    }\n",
       "</style>\n",
       "<table border=\"1\" class=\"dataframe\">\n",
       "  <thead>\n",
       "    <tr style=\"text-align: right;\">\n",
       "      <th></th>\n",
       "      <th>name</th>\n",
       "      <th>gender</th>\n",
       "      <th>count</th>\n",
       "    </tr>\n",
       "  </thead>\n",
       "  <tbody>\n",
       "    <tr>\n",
       "      <th>942</th>\n",
       "      <td>John</td>\n",
       "      <td>M</td>\n",
       "      <td>9655</td>\n",
       "    </tr>\n",
       "    <tr>\n",
       "      <th>943</th>\n",
       "      <td>William</td>\n",
       "      <td>M</td>\n",
       "      <td>9532</td>\n",
       "    </tr>\n",
       "    <tr>\n",
       "      <th>0</th>\n",
       "      <td>Mary</td>\n",
       "      <td>F</td>\n",
       "      <td>7065</td>\n",
       "    </tr>\n",
       "  </tbody>\n",
       "</table>\n",
       "</div>"
      ],
      "text/plain": [
       "        name gender  count\n",
       "942     John      M   9655\n",
       "943  William      M   9532\n",
       "0       Mary      F   7065"
      ]
     },
     "execution_count": 226,
     "metadata": {},
     "output_type": "execute_result"
    }
   ],
   "source": [
    "def count_top3(year):\n",
    "    df_names = pd.read_csv(f'{file_path}/yob{year}.txt', names=['name', 'gender', 'count'])\n",
    "    df = df_names.sort_values('count', ascending=False)\n",
    "    d = df.head(3)\n",
    "    return d\n",
    "count_top3(1880)"
   ]
  },
  {
   "cell_type": "code",
   "execution_count": 193,
   "metadata": {},
   "outputs": [
    {
     "data": {
      "text/html": [
       "<div>\n",
       "<style scoped>\n",
       "    .dataframe tbody tr th:only-of-type {\n",
       "        vertical-align: middle;\n",
       "    }\n",
       "\n",
       "    .dataframe tbody tr th {\n",
       "        vertical-align: top;\n",
       "    }\n",
       "\n",
       "    .dataframe thead th {\n",
       "        text-align: right;\n",
       "    }\n",
       "</style>\n",
       "<table border=\"1\" class=\"dataframe\">\n",
       "  <thead>\n",
       "    <tr style=\"text-align: right;\">\n",
       "      <th></th>\n",
       "      <th></th>\n",
       "      <th>count</th>\n",
       "    </tr>\n",
       "    <tr>\n",
       "      <th>name</th>\n",
       "      <th>gender</th>\n",
       "      <th></th>\n",
       "    </tr>\n",
       "  </thead>\n",
       "  <tbody>\n",
       "    <tr>\n",
       "      <th>James</th>\n",
       "      <th>M</th>\n",
       "      <td>111456</td>\n",
       "    </tr>\n",
       "    <tr>\n",
       "      <th>John</th>\n",
       "      <th>M</th>\n",
       "      <td>109349</td>\n",
       "    </tr>\n",
       "    <tr>\n",
       "      <th>Robert</th>\n",
       "      <th>M</th>\n",
       "      <td>101118</td>\n",
       "    </tr>\n",
       "  </tbody>\n",
       "</table>\n",
       "</div>"
      ],
      "text/plain": [
       "                count\n",
       "name   gender        \n",
       "James  M       111456\n",
       "John   M       109349\n",
       "Robert M       101118"
      ]
     },
     "execution_count": 193,
     "metadata": {},
     "output_type": "execute_result"
    }
   ],
   "source": [
    "def count_top3(year1, year2, year3):\n",
    "    df_1 = pd.read_csv(f'{file_path}/yob{year1}.txt', names=['name', 'gender', 'count'])\n",
    "    # df_1['year'] = year1\n",
    "    df_2 = pd.read_csv(f'{file_path}/yob{year2}.txt', names=['name', 'gender', 'count'])\n",
    "    # df_2['year'] = year2\n",
    "    df_3 = pd.read_csv(f'{file_path}/yob{year3}.txt', names=['name', 'gender', 'count'])\n",
    "    # df_3['year'] = year3\n",
    "    df_res = pd.concat([df_1, df_2, df_3])\n",
    "    df = df_res.groupby(['name', 'gender']).sum()\n",
    "    d = df.sort_values('count', ascending=False)\n",
    "    result = d.head(3) \n",
    "    return result #df_res[df_res['name'] == 'John'] #d#['name']\n",
    "\n",
    "count_top3(1900, 1950, 2000)"
   ]
  },
  {
   "cell_type": "code",
   "execution_count": null,
   "metadata": {},
   "outputs": [],
   "source": [
    "def count_dynamics(year1, year2, year3):\n",
    "    y = 1880\n",
    "    lenM1, lenM2, lenM3 = 0, 0, 0\n",
    "    lenF1, lenF2, lenF3 = 0, 0, 0\n",
    "    while y <= year1:\n",
    "        df_1 = pd.read_csv(f'{file_path}/yob{y}.txt', names=['name', 'gender', 'count'])\n",
    "        lenM1 += df_1[(df_1.gender == 'M')].shape[0]\n",
    "        lenF1 += df_1[(df_1.gender == 'F')].shape[0]\n",
    "        y += 1\n",
    "    while y <= year2:\n",
    "        df_2 = pd.read_csv(f'{file_path}/yob{y}.txt', names=['name', 'gender', 'count'])\n",
    "        lenM2 += df_2[(df_2.gender == 'M')].shape[0]\n",
    "        lenF2 += df_2[(df_2.gender == 'F')].shape[0]\n",
    "        y += 1\n",
    "    while y <= year3:\n",
    "        df_3 = pd.read_csv(f'{file_path}/yob{y}.txt', names=['name', 'gender', 'count'])\n",
    "        lenM3 = df_3[(df_3.gender == 'M')].shape[0]\n",
    "        lenF3 = df_3[(df_3.gender == 'F')].shape[0]\n",
    "    d = {}\n",
    "    d['F'] = [lenF1, lenF2, lenF3]\n",
    "    d['M'] = [lenM1, lenM2, lenM3]\n",
    "    return d\n",
    "    \n",
    "count_dynamics(1900, 1950, 2000)"
   ]
  }
 ],
 "metadata": {
  "kernelspec": {
   "display_name": "Python 3",
   "language": "python",
   "name": "python3"
  },
  "language_info": {
   "codemirror_mode": {
    "name": "ipython",
    "version": 3
   },
   "file_extension": ".py",
   "mimetype": "text/x-python",
   "name": "python",
   "nbconvert_exporter": "python",
   "pygments_lexer": "ipython3",
   "version": "3.7.3"
  }
 },
 "nbformat": 4,
 "nbformat_minor": 2
}
