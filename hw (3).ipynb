{
 "cells": [
  {
   "cell_type": "code",
   "execution_count": 40,
   "metadata": {},
   "outputs": [],
   "source": [
    "import pandas as pd"
   ]
  },
  {
   "cell_type": "code",
   "execution_count": 41,
   "metadata": {},
   "outputs": [],
   "source": [
    "file_path = 'C:/My documents/names'"
   ]
  },
  {
   "cell_type": "code",
   "execution_count": 42,
   "metadata": {},
   "outputs": [
    {
     "data": {
      "text/plain": [
       "['John', 'William', 'Mary']"
      ]
     },
     "execution_count": 42,
     "metadata": {},
     "output_type": "execute_result"
    }
   ],
   "source": [
    "def count_top3(year):\n",
    "    answer_list = []\n",
    "    for y in year: \n",
    "        df_names = pd.read_csv(f'{file_path}/yob{y}.txt', names=['name', 'gender', 'count'])\n",
    "        df = df_names.sort_values('count', ascending=False)\n",
    "        d = df.head(3)\n",
    "        for i in d['name']:\n",
    "            answer_list.append(i)\n",
    "    return answer_list\n",
    "count_top3([1880])"
   ]
  },
  {
   "cell_type": "code",
   "execution_count": 43,
   "metadata": {},
   "outputs": [
    {
     "data": {
      "text/html": [
       "<div>\n",
       "<style scoped>\n",
       "    .dataframe tbody tr th:only-of-type {\n",
       "        vertical-align: middle;\n",
       "    }\n",
       "\n",
       "    .dataframe tbody tr th {\n",
       "        vertical-align: top;\n",
       "    }\n",
       "\n",
       "    .dataframe thead th {\n",
       "        text-align: right;\n",
       "    }\n",
       "</style>\n",
       "<table border=\"1\" class=\"dataframe\">\n",
       "  <thead>\n",
       "    <tr style=\"text-align: right;\">\n",
       "      <th></th>\n",
       "      <th></th>\n",
       "      <th>count</th>\n",
       "    </tr>\n",
       "    <tr>\n",
       "      <th>name</th>\n",
       "      <th>gender</th>\n",
       "      <th></th>\n",
       "    </tr>\n",
       "  </thead>\n",
       "  <tbody>\n",
       "    <tr>\n",
       "      <th>James</th>\n",
       "      <th>M</th>\n",
       "      <td>111456</td>\n",
       "    </tr>\n",
       "    <tr>\n",
       "      <th>John</th>\n",
       "      <th>M</th>\n",
       "      <td>109349</td>\n",
       "    </tr>\n",
       "    <tr>\n",
       "      <th>Robert</th>\n",
       "      <th>M</th>\n",
       "      <td>101118</td>\n",
       "    </tr>\n",
       "  </tbody>\n",
       "</table>\n",
       "</div>"
      ],
      "text/plain": [
       "                count\n",
       "name   gender        \n",
       "James  M       111456\n",
       "John   M       109349\n",
       "Robert M       101118"
      ]
     },
     "execution_count": 43,
     "metadata": {},
     "output_type": "execute_result"
    }
   ],
   "source": [
    "def count_top3(year):\n",
    "    if len(year) < 2:\n",
    "        answer_list = []\n",
    "        for y in year: \n",
    "            df_names = pd.read_csv(f'{file_path}/yob{y}.txt', names=['name', 'gender', 'count'])\n",
    "            df = df_names.sort_values('count', ascending=False)\n",
    "            d = df.head(3)\n",
    "            for i in d['name']:\n",
    "                answer_list.append(i)\n",
    "        return answer_list\n",
    "    else:\n",
    "        years = []\n",
    "        for y in year: \n",
    "            df_names = pd.read_csv(f'{file_path}/yob{y}.txt', names=['name', 'gender', 'count'])\n",
    "            years.append(df_names)\n",
    "        df_res = pd.concat(years)\n",
    "        df = df_res.groupby(['name', 'gender']).sum()\n",
    "        d = df.sort_values('count', ascending=False)\n",
    "        result = d.head(3)\n",
    "#         for i in result['count']:\n",
    "#             print(i)\n",
    "        return result \n",
    "count_top3([1900, 1950, 2000])"
   ]
  },
  {
   "cell_type": "code",
   "execution_count": 48,
   "metadata": {},
   "outputs": [
    {
     "data": {
      "text/plain": [
       "{'F': [2224, 6111, 17655], 'M': [1506, 4192, 12117]}"
      ]
     },
     "execution_count": 48,
     "metadata": {},
     "output_type": "execute_result"
    }
   ],
   "source": [
    "def count_dynamics(year):\n",
    "    names_by_year_dict = {}\n",
    "    F = []\n",
    "    M = []\n",
    "    for y in year:\n",
    "        names_by_year = pd.read_csv(f'{file_path}/yob{y}.txt', names=['name','gender','count'])\n",
    "        M.append(names_by_year[names_by_year.gender == 'M'].shape[0])\n",
    "        F.append(names_by_year[names_by_year.gender == 'F'].shape[0])\n",
    "    names_by_year_dict['F'] = F\n",
    "    names_by_year_dict['M'] = M\n",
    "    return names_by_year_dict\n",
    "\n",
    "count_dynamics([1900, 1950, 2000])"
   ]
  },
  {
   "cell_type": "code",
   "execution_count": null,
   "metadata": {},
   "outputs": [],
   "source": []
  },
  {
   "cell_type": "code",
   "execution_count": null,
   "metadata": {},
   "outputs": [],
   "source": []
  }
 ],
 "metadata": {
  "kernelspec": {
   "display_name": "Python 3",
   "language": "python",
   "name": "python3"
  },
  "language_info": {
   "codemirror_mode": {
    "name": "ipython",
    "version": 3
   },
   "file_extension": ".py",
   "mimetype": "text/x-python",
   "name": "python",
   "nbconvert_exporter": "python",
   "pygments_lexer": "ipython3",
   "version": "3.7.3"
  }
 },
 "nbformat": 4,
 "nbformat_minor": 2
}
