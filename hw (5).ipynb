{
 "cells": [
  {
   "cell_type": "code",
   "execution_count": 1,
   "metadata": {},
   "outputs": [],
   "source": [
    "import pandas as pd"
   ]
  },
  {
   "cell_type": "code",
   "execution_count": 2,
   "metadata": {},
   "outputs": [],
   "source": [
    "file_path = 'C:/My documents/names'"
   ]
  },
  {
   "cell_type": "code",
   "execution_count": 17,
   "metadata": {},
   "outputs": [
    {
     "name": "stdout",
     "output_type": "stream",
     "text": [
      "['John', 'William', 'Mary']\n"
     ]
    },
    {
     "data": {
      "text/plain": [
       "['James', 'John', 'Robert']"
      ]
     },
     "execution_count": 17,
     "metadata": {},
     "output_type": "execute_result"
    }
   ],
   "source": [
    "def count_top3(year):\n",
    "    years = []\n",
    "    answer_list = []\n",
    "    for y in year: \n",
    "        df_names = pd.read_csv(f'{file_path}/yob{y}.txt', names=['name', 'gender', 'count'])\n",
    "        years.append(df_names)\n",
    "    df_res = pd.concat(years)\n",
    "    df = df_res.groupby(['name', 'gender']).sum()\n",
    "    d = df.sort_values('count', ascending=False)\n",
    "    result = d.head(3)\n",
    "    result.reset_index(level=0, inplace=True)\n",
    "    for i in result['name']:\n",
    "            answer_list.append(i)\n",
    "    return answer_list\n",
    "print(count_top3([1880]))\n",
    "count_top3([1900, 1950, 2000])"
   ]
  },
  {
   "cell_type": "code",
   "execution_count": 48,
   "metadata": {},
   "outputs": [
    {
     "name": "stdout",
     "output_type": "stream",
     "text": [
      "     gender    count\n",
      "year                \n",
      "1900      F   299798\n",
      "1900      M   150480\n",
      "1950      F  1713065\n",
      "1950      M  1790437\n",
      "2000      F  1815295\n",
      "2000      M  1963202\n"
     ]
    },
    {
     "name": "stderr",
     "output_type": "stream",
     "text": [
      "C:\\Anaconda3\\lib\\site-packages\\ipykernel_launcher.py:14: UserWarning: DataFrame columns are not unique, some columns will be omitted.\n",
      "  \n"
     ]
    },
    {
     "data": {
      "text/plain": [
       "{'F': [1815295], 'M': [1963202]}"
      ]
     },
     "execution_count": 48,
     "metadata": {},
     "output_type": "execute_result"
    }
   ],
   "source": [
    "def count_dynamics(year):\n",
    "    years = []\n",
    "    names_by_year_dict = {}\n",
    "    F = []\n",
    "    M = []\n",
    "    for y in year:\n",
    "        names_by_year = pd.read_csv(f'{file_path}/yob{y}.txt', names=['name','gender','count'])\n",
    "        names_by_year['year'] = y\n",
    "        years.append(names_by_year)\n",
    "    names_by_years = pd.concat(years)\n",
    "    result = names_by_years.groupby(['year', 'gender']).aggregate(sum)\n",
    "    result.reset_index(['gender'], inplace=True)\n",
    "    print(result)\n",
    "    return result.set_index('gender').T.to_dict('list')\n",
    "\n",
    "count_dynamics([1900, 1950, 2000])"
   ]
  },
  {
   "cell_type": "code",
   "execution_count": null,
   "metadata": {},
   "outputs": [],
   "source": []
  },
  {
   "cell_type": "code",
   "execution_count": null,
   "metadata": {},
   "outputs": [],
   "source": []
  }
 ],
 "metadata": {
  "kernelspec": {
   "display_name": "Python 3",
   "language": "python",
   "name": "python3"
  },
  "language_info": {
   "codemirror_mode": {
    "name": "ipython",
    "version": 3
   },
   "file_extension": ".py",
   "mimetype": "text/x-python",
   "name": "python",
   "nbconvert_exporter": "python",
   "pygments_lexer": "ipython3",
   "version": "3.7.3"
  }
 },
 "nbformat": 4,
 "nbformat_minor": 2
}
